{
 "cells": [
  {
   "cell_type": "code",
   "execution_count": 1,
   "metadata": {
    "pycharm": {
     "is_executing": false
    }
   },
   "outputs": [],
   "source": [
    "# import math\n",
    "# import random\n",
    "\n",
    "import gym\n",
    "import numpy as np\n",
    "\n",
    "import torch\n",
    "import torch.nn as nn\n",
    "import torch.optim as optim\n",
    "# import torch.nn.functional as F\n",
    "from torch.distributions import Normal"
   ]
  },
  {
   "cell_type": "code",
   "execution_count": 2,
   "metadata": {
    "pycharm": {
     "is_executing": false
    }
   },
   "outputs": [],
   "source": [
    "from IPython.display import clear_output\n",
    "import matplotlib.pyplot as plt\n",
    "%matplotlib inline"
   ]
  },
  {
   "cell_type": "markdown",
   "metadata": {},
   "source": [
    "<h2>Use CUDA</h2>"
   ]
  },
  {
   "cell_type": "code",
   "execution_count": 3,
   "metadata": {
    "pycharm": {
     "is_executing": false
    }
   },
   "outputs": [],
   "source": [
    "use_cuda = torch.cuda.is_available()\n",
    "device   = torch.device(\"cuda\" if use_cuda else \"cpu\")"
   ]
  },
  {
   "cell_type": "markdown",
   "metadata": {},
   "source": [
    "<h2>Create Environments</h2>"
   ]
  },
  {
   "cell_type": "code",
   "execution_count": 4,
   "metadata": {
    "pycharm": {
     "is_executing": false
    }
   },
   "outputs": [],
   "source": [
    "from common.multiprocessing_env import SubprocVecEnv\n",
    "\n",
    "num_envs = 16\n",
    "env_name = \"Pendulum-v0\"\n",
    "\n",
    "def make_env():\n",
    "    def _thunk():\n",
    "        env = gym.make(env_name)\n",
    "        return env\n",
    "\n",
    "    return _thunk\n",
    "\n",
    "envs = [make_env() for i in range(num_envs)]\n",
    "envs = SubprocVecEnv(envs)\n",
    "\n",
    "env = gym.make(env_name)"
   ]
  },
  {
   "cell_type": "markdown",
   "metadata": {},
   "source": [
    "<h2>Neural Network</h2>"
   ]
  },
  {
   "cell_type": "code",
   "execution_count": 5,
   "metadata": {
    "pycharm": {
     "is_executing": false
    }
   },
   "outputs": [],
   "source": [
    "def init_weights(m):\n",
    "    if isinstance(m, nn.Linear):\n",
    "        nn.init.normal_(m.weight, mean=0., std=0.1)\n",
    "        nn.init.constant_(m.bias, 0.1)\n",
    "        \n",
    "\n",
    "class ActorCritic(nn.Module):\n",
    "    def __init__(self, num_inputs, num_outputs, hidden_size, std=0.0):\n",
    "        super(ActorCritic, self).__init__()\n",
    "        \n",
    "        self.critic = nn.Sequential(\n",
    "            nn.Linear(num_inputs, hidden_size),\n",
    "            nn.ReLU(),\n",
    "            nn.Linear(hidden_size, 1)\n",
    "        )\n",
    "        \n",
    "        self.actor = nn.Sequential(\n",
    "            nn.Linear(num_inputs, hidden_size),\n",
    "            nn.ReLU(),\n",
    "            nn.Linear(hidden_size, num_outputs),\n",
    "        )\n",
    "        self.log_std = nn.Parameter(torch.ones(1, num_outputs) * std)\n",
    "        \n",
    "        self.apply(init_weights)\n",
    "        \n",
    "    def forward(self, x):\n",
    "        value = self.critic(x)\n",
    "        mu    = self.actor(x)\n",
    "        std   = self.log_std.exp().expand_as(mu)\n",
    "        dist  = Normal(mu, std)\n",
    "        return dist, value"
   ]
  },
  {
   "cell_type": "code",
   "execution_count": 6,
   "metadata": {
    "pycharm": {
     "is_executing": false
    }
   },
   "outputs": [],
   "source": [
    "def plot(frame_idx, rewards):\n",
    "    clear_output(True)\n",
    "    plt.figure(figsize=(20,5))\n",
    "    plt.subplot(131)\n",
    "    plt.title('frame %s. reward: %s' % (frame_idx, rewards[-1]))\n",
    "    plt.plot(rewards)\n",
    "    plt.show()\n",
    "    \n",
    "def test_env(vis=False):\n",
    "    state = env.reset()\n",
    "    if vis: env.render()\n",
    "    done = False\n",
    "    total_reward = 0\n",
    "    while not done:\n",
    "        state = torch.FloatTensor(state).unsqueeze(0).to(device)\n",
    "        dist, _ = model(state)\n",
    "        next_state, reward, done, _ = env.step(dist.sample().cpu().numpy()[0])\n",
    "        state = next_state\n",
    "        if vis: env.render()\n",
    "        total_reward += reward\n",
    "    return total_reward"
   ]
  },
  {
   "cell_type": "markdown",
   "metadata": {},
   "source": [
    "<h2>GAE</h2>"
   ]
  },
  {
   "cell_type": "code",
   "execution_count": 7,
   "metadata": {
    "pycharm": {
     "is_executing": false
    }
   },
   "outputs": [],
   "source": [
    "def compute_gae(next_value, rewards, masks, values, gamma=0.99, tau=0.95):\n",
    "    values = values + [next_value]\n",
    "    gae = 0\n",
    "    returns = []\n",
    "    for step in reversed(range(len(rewards))):\n",
    "        delta = rewards[step] + gamma * values[step + 1] * masks[step] - values[step]\n",
    "        gae = delta + gamma * tau * masks[step] * gae\n",
    "        returns.insert(0, gae + values[step])\n",
    "    return returns"
   ]
  },
  {
   "cell_type": "markdown",
   "metadata": {},
   "source": [
    "<h1> Proximal Policy Optimization Algorithm</h1>\n",
    "<h2><a href=\"https://arxiv.org/abs/1707.06347\">Arxiv</a></h2>"
   ]
  },
  {
   "cell_type": "code",
   "execution_count": 8,
   "metadata": {
    "pycharm": {
     "is_executing": false
    }
   },
   "outputs": [],
   "source": [
    "def ppo_iter(mini_batch_size, states, actions, log_probs, returns, advantage):\n",
    "    batch_size = states.size(0)\n",
    "    for _ in range(batch_size // mini_batch_size):\n",
    "        rand_ids = np.random.randint(0, batch_size, mini_batch_size)\n",
    "        yield states[rand_ids, :], actions[rand_ids, :], log_probs[rand_ids, :], returns[rand_ids, :], advantage[rand_ids, :]\n",
    "        \n",
    "        \n",
    "\n",
    "def ppo_update(ppo_epochs, mini_batch_size, states, actions, log_probs, returns, advantages, clip_param=0.2):\n",
    "    for _ in range(ppo_epochs):\n",
    "        for state, action, old_log_probs, return_, advantage in ppo_iter(mini_batch_size, states, actions, log_probs, returns, advantages):\n",
    "            dist, value = model(state)\n",
    "            entropy = dist.entropy().mean()\n",
    "            new_log_probs = dist.log_prob(action)\n",
    "\n",
    "            ratio = (new_log_probs - old_log_probs).exp()\n",
    "            surr1 = ratio * advantage\n",
    "            surr2 = torch.clamp(ratio, 1.0 - clip_param, 1.0 + clip_param) * advantage\n",
    "\n",
    "            actor_loss  = - torch.min(surr1, surr2).mean()\n",
    "            critic_loss = (return_ - value).pow(2).mean()\n",
    "\n",
    "            loss = 0.5 * critic_loss + actor_loss - 0.001 * entropy\n",
    "\n",
    "            optimizer.zero_grad()\n",
    "            loss.backward()\n",
    "            optimizer.step()"
   ]
  },
  {
   "cell_type": "code",
   "execution_count": 9,
   "metadata": {
    "pycharm": {
     "is_executing": false
    }
   },
   "outputs": [],
   "source": [
    "num_inputs  = envs.observation_space.shape[0]\n",
    "num_outputs = envs.action_space.shape[0]\n",
    "\n",
    "#Hyper params:\n",
    "hidden_size      = 256\n",
    "lr               = 3e-4\n",
    "num_steps        = 20\n",
    "mini_batch_size  = 5\n",
    "ppo_epochs       = 4\n",
    "threshold_reward = -200\n",
    "\n",
    "model = ActorCritic(num_inputs, num_outputs, hidden_size).to(device)\n",
    "optimizer = optim.Adam(model.parameters(), lr=lr)"
   ]
  },
  {
   "cell_type": "code",
   "execution_count": 10,
   "metadata": {
    "pycharm": {
     "is_executing": false
    }
   },
   "outputs": [],
   "source": [
    "max_frames = 15000\n",
    "frame_idx  = 0\n",
    "test_rewards = []"
   ]
  },
  {
   "cell_type": "code",
   "execution_count": 11,
   "metadata": {
    "pycharm": {
     "is_executing": false
    }
   },
   "outputs": [
    {
     "data": {
      "text/plain": "<Figure size 1440x360 with 1 Axes>",
      "image/png": "[encoded data removed]"
     },
     "metadata": {
      "needs_background": "light"
     },
     "output_type": "display_data"
    }
   ],
   "source": [
    "state = envs.reset()\n",
    "early_stop = False\n",
    "\n",
    "while frame_idx < max_frames and not early_stop:\n",
    "\n",
    "    log_probs = []\n",
    "    values    = []\n",
    "    states    = []\n",
    "    actions   = []\n",
    "    rewards   = []\n",
    "    masks     = []\n",
    "    entropy = 0\n",
    "\n",
    "    for _ in range(num_steps):\n",
    "        state = torch.FloatTensor(state).to(device)\n",
    "        dist, value = model(state)\n",
    "\n",
    "        action = dist.sample()\n",
    "        next_state, reward, done, _ = envs.step(action.cpu().numpy())\n",
    "\n",
    "        log_prob = dist.log_prob(action)\n",
    "        entropy += dist.entropy().mean()\n",
    "        \n",
    "        log_probs.append(log_prob)\n",
    "        values.append(value)\n",
    "        rewards.append(torch.FloatTensor(reward).unsqueeze(1).to(device))\n",
    "        masks.append(torch.FloatTensor(1 - done).unsqueeze(1).to(device))\n",
    "        \n",
    "        states.append(state)\n",
    "        actions.append(action)\n",
    "        \n",
    "        state = next_state\n",
    "        frame_idx += 1\n",
    "        \n",
    "        if frame_idx % 1000 == 0:\n",
    "            test_reward = np.mean([test_env() for _ in range(10)])\n",
    "            test_rewards.append(test_reward)\n",
    "            plot(frame_idx, test_rewards)\n",
    "            if test_reward > threshold_reward: early_stop = True\n",
    "            \n",
    "\n",
    "    next_state = torch.FloatTensor(next_state).to(device)\n",
    "    _, next_value = model(next_state)\n",
    "    returns = compute_gae(next_value, rewards, masks, values)\n",
    "\n",
    "    returns   = torch.cat(returns).detach()\n",
    "    log_probs = torch.cat(log_probs).detach()\n",
    "    values    = torch.cat(values).detach()\n",
    "    states    = torch.cat(states)\n",
    "    actions   = torch.cat(actions)\n",
    "    advantage = returns - values\n",
    "    \n",
    "    ppo_update(ppo_epochs, mini_batch_size, states, actions, log_probs, returns, advantage)"
   ]
  },
  {
   "cell_type": "markdown",
   "metadata": {},
   "source": [
    "<h1>Saving trajectories for GAIL</h1>"
   ]
  },
  {
   "cell_type": "code",
   "execution_count": 12,
   "metadata": {
    "pycharm": {
     "is_executing": false
    }
   },
   "outputs": [
    {
     "name": "stdout",
     "text": [
      "episode: 0 reward: -1228.239249720584\nepisode: 1 reward: -866.3187509579898\nepisode: 2 reward: -988.1416644966962\n",
      "episode: 3 reward: -1039.670741408063\nepisode: 4 reward: -864.9792081923096\n",
      "episode: 5 reward: -1310.5722419652886\nepisode: 6 reward: -1327.94837002986\nepisode: 7 reward: -1057.637871209545\n",
      "episode: 8 reward: -768.112978448955\nepisode: 9 reward: -1314.9057500423733\n",
      "episode: 10 reward: -1312.7892988288831\nepisode: 11 reward: -1304.4804840595111\nepisode: 12 reward: -1125.5980375500114\n",
      "episode: 13 reward: -772.8325539319964\nepisode: 14 reward: -695.5018338136289\n",
      "episode: 15 reward: -1317.5543237310837\nepisode: 16 reward: -965.8498391528669\nepisode: 17 reward: -1353.652834231909\n",
      "episode: 18 reward: -1325.670408534907\nepisode: 19 reward: -999.1971963774191\n",
      "episode: 20 reward: -869.0164324640061\nepisode: 21 reward: -768.9391138450302\nepisode: 22 reward: -1013.1370657298487\n",
      "episode: 23 reward: -844.6628164222209\nepisode: 24 reward: -883.412236996456\n",
      "episode: 25 reward: -875.4275123724576\nepisode: 26 reward: -938.3377714543674\nepisode: 27 reward: -908.0019186518253\n",
      "episode: 28 reward: -867.3223984494131\nepisode: 29 reward: -881.2460797715025\n",
      "episode: 30 reward: -1255.0591148234166\nepisode: 31 reward: -1193.2535628659023\n",
      "episode: 32 reward: -993.3354301027813\nepisode: 33 reward: -1353.2301703112807\n",
      "episode: 34 reward: -1000.1068142997137\nepisode: 35 reward: -1329.839152788925\n",
      "episode: 36 reward: -881.8642536703856\nepisode: 37 reward: -950.2819927565293\n",
      "episode: 38 reward: -1057.2299498874258\n",
      "episode: 39 reward: -869.9419332643931\nepisode: 40 reward: -930.3999774780474\n",
      "episode: 41 reward: -887.743758244907\nepisode: 42 reward: -1323.2961702740604\n",
      "episode: 43 reward: -868.1362624606076\nepisode: 44 reward: -867.831259287496\nepisode: 45 reward: -878.7156863397962\n",
      "episode: 46 reward: -1273.0766518031771\nepisode: 47 reward: -1354.4259216016828\nepisode: 48 reward: -1094.715058579797\n",
      "episode: 49 reward: -1290.597622105755\nepisode: 50 reward: -896.8069862848224\nepisode: 51 reward: -1294.3596794536918\n",
      "episode: 52 reward: -1320.464849797777\nepisode: 53 reward: -989.8074932243611\n",
      "episode: 54 reward: -877.2487713056064\nepisode: 55 reward: -882.2852300058232\nepisode: 56 reward: -1304.2771758268782\n",
      "episode: 57 reward: -1242.3448194227103\nepisode: 58 reward: -758.8265695868273\n",
      "episode: 59 reward: -949.5818116086804\nepisode: 60 reward: -880.5791537317293\n",
      "episode: 61 reward: -1259.6364690880105\nepisode: 62 reward: -803.592417001566\n",
      "episode: 63 reward: -1172.3412522764854\nepisode: 64 reward: -1337.4925034064315\n",
      "episode: 65 reward: -1100.7017482001936\nepisode: 66 reward: -1064.933172788344\nepisode: 67 reward: -1370.5298624117333\n",
      "episode: 68 reward: -1001.0206862961052\nepisode: 69 reward: -882.680658057017\nepisode: 70 reward: -1003.1894179048128\n",
      "episode: 71 reward: -1142.20163497029\nepisode: 72 reward: -879.3858723811268\nepisode: 73 reward: -1338.8524916968158\n",
      "episode: 74 reward: -1208.0531251267528\nepisode: 75 reward: -880.7699084377703\nepisode: 76 reward: -799.0257531215142\n",
      "episode: 77 reward: -888.4397889711404\nepisode: 78 reward: -1306.7498223388577\nepisode: 79 reward: -1317.5518780991629\n",
      "episode: 80 reward: -936.2548500083877\nepisode: 81 reward: -1358.4579261709744\n",
      "episode: 82 reward: -1268.7465147624282\nepisode: 83 reward: -1125.5833581650102\n",
      "episode: 84 reward: -1325.0045471593764\nepisode: 85 reward: -1318.1941582682764\n",
      "episode: 86 reward: -1295.4170891944716\nepisode: 87 reward: -1361.4180100918147\n",
      "episode: 88 reward: -865.6434562768957\nepisode: 89 reward: -971.5186274278789\n",
      "episode: 90 reward: -872.8781760470742\nepisode: 91 reward: -1360.7971028586874\n",
      "episode: 92 reward: -630.6074697340773\nepisode: 93 reward: -1253.8989106373708\n",
      "episode: 94 reward: -1051.5006589891898\nepisode: 95 reward: -1126.39934505735\nepisode: 96 reward: -1309.8544793956005\n",
      "episode: 97 reward: -1369.9125631696877\nepisode: 98 reward: -1247.90035213203\nepisode: 99 reward: -970.7370357932745\n",
      "episode: 100 reward: -1362.506858007356\nepisode: 101 reward: -1003.8109776525334\nepisode: 102 reward: -1232.8726847690443\n",
      "episode: 103 reward: -894.5527437354169\nepisode: 104 reward: -1313.0938929079462\n",
      "episode: 105 reward: -1358.6231310229148\nepisode: 106 reward: -902.126854775804\n",
      "episode: 107 reward: -966.7821859242515\nepisode: 108 reward: -1302.95863017822\nepisode: 109 reward: -743.6988919045679\n",
      "episode: 110 reward: -1289.5714988463615\nepisode: 111 reward: -1021.1730196650226\n",
      "episode: 112 reward: -1179.9507176422505\nepisode: 113 reward: -870.9487920581162\n",
      "episode: 114 reward: -1175.7713529541556\nepisode: 115 reward: -758.5060448814113\n",
      "episode: 116 reward: -880.3048038466944\nepisode: 117 reward: -985.4123463579248\n",
      "episode: 118 reward: -1317.0948924153015\nepisode: 119 reward: -836.5843400289424\n",
      "episode: 120 reward: -988.1729835537762\nepisode: 121 reward: -876.953946282171\n",
      "episode: 122 reward: -911.2835603573855\nepisode: 123 reward: -1243.785077257079\n",
      "episode: 124 reward: -767.622758571295\nepisode: 125 reward: -1247.7358827526232\n",
      "episode: 126 reward: -943.830379437143\nepisode: 127 reward: -1264.2881244186078\n",
      "episode: 128 reward: -753.1340414609609\nepisode: 129 reward: -754.2042215310017\nepisode: 130 reward: -965.5468867703859\n",
      "episode: 131 reward: -1001.0054033528991\nepisode: 132 reward: -1222.396516753573\n",
      "episode: 133 reward: -1358.918227992441\nepisode: 134 reward: -880.6926733237323\nepisode: 135 reward: -1123.1832741915505\n",
      "episode: 136 reward: -1267.5502596060585\nepisode: 137 reward: -877.447054290193\n",
      "episode: 138 reward: -1070.7215037907138\nepisode: 139 reward: -1051.0211898053637\n",
      "episode: 140 reward: -838.415869600339\n",
      "episode: 141 reward: -1184.860336836655\nepisode: 142 reward: -951.1095063104564\n",
      "episode: 143 reward: -916.5886937334151\nepisode: 144 reward: -1078.4460528907634\n",
      "episode: 145 reward: -871.8485285566709\nepisode: 146 reward: -972.0765522884574\n",
      "episode: 147 reward: -761.682289165676\nepisode: 148 reward: -921.9738452582851\n",
      "episode: 149 reward: -876.8912496433911\nepisode: 150 reward: -875.2635167767289\n",
      "episode: 151 reward: -1157.3583487790581\nepisode: 152 reward: -884.8592616972836\n",
      "episode: 153 reward: -862.8789250341758\nepisode: 154 reward: -878.9722523534749\n",
      "episode: 155 reward: -1293.2534009951266\nepisode: 156 reward: -886.9733225982365\nepisode: 157 reward: -1041.9760649032905\n",
      "episode: 158 reward: -1076.0700897454417\nepisode: 159 reward: -1330.274231372675\n",
      "episode: 160 reward: -804.0734046871107\nepisode: 161 reward: -1234.2627573063844\nepisode: 162 reward: -1310.9346533926062\n",
      "episode: 163 reward: -1268.0774999162459\nepisode: 164 reward: -893.0487093416822\n",
      "episode: 165 reward: -875.7781140067071\nepisode: 166 reward: -872.5195550618265\nepisode: 167 reward: -1300.432533521207\n",
      "episode: 168 reward: -882.1880261916367\nepisode: 169 reward: -1311.4727098405922\n",
      "episode: 170 reward: -869.8533590703696\nepisode: 171 reward: -1272.2958488838049\n",
      "episode: 172 reward: -1329.566857330839\nepisode: 173 reward: -1317.7531574051523\n",
      "episode: 174 reward: -832.2263762406405\nepisode: 175 reward: -875.8678050630689\n",
      "episode: 176 reward: -1014.752498452327\nepisode: 177 reward: -821.015931053663\nepisode: 178 reward: -878.9451124883382\n",
      "episode: 179 reward: -1077.6709250589768\nepisode: 180 reward: -974.2891841387948\n",
      "episode: 181 reward: -1356.718909966235\nepisode: 182 reward: -1369.3724067119604\nepisode: 183 reward: -828.3787098397702\n",
      "episode: 184 reward: -754.5624919512782\nepisode: 185 reward: -1359.8635378030824\n",
      "episode: 186 reward: -748.7415662584482\nepisode: 187 reward: -757.1029570951017\n",
      "episode: 188 reward: -878.7538267543387\nepisode: 189 reward: -1327.3217714553466\n",
      "episode: 190 reward: -876.0780256689136\nepisode: 191 reward: -882.9178521766887\n",
      "episode: 192 reward: -986.4623582029363\nepisode: 193 reward: -981.5245251533803\n",
      "episode: 194 reward: -1042.4549451991836\nepisode: 195 reward: -878.898806795274\n",
      "episode: 196 reward: -876.3732092679048\nepisode: 197 reward: -626.4738907832598\n",
      "episode: 198 reward: -844.709717291356\nepisode: 199 reward: -751.0214409109687\n",
      "episode: 200 reward: -1336.2525640052618\nepisode: 201 reward: -1355.6843017077524\n",
      "episode: 202 reward: -754.6791139320665\nepisode: 203 reward: -1294.4800685041735\n",
      "episode: 204 reward: -1369.642100377592\nepisode: 205 reward: -1267.2790215521434\n",
      "episode: 206 reward: -749.4432678003666\nepisode: 207 reward: -876.1148075663414\n",
      "episode: 208 reward: -1209.5226824451688\nepisode: 209 reward: -1095.2344335070943\n",
      "episode: 210 reward: -1063.190875459769\nepisode: 211 reward: -757.9996221235205\n",
      "episode: 212 reward: -888.9437229737058\nepisode: 213 reward: -1262.8979236268847\n",
      "episode: 214 reward: -1354.4429548897735\nepisode: 215 reward: -838.5369818469893\nepisode: 216 reward: -1044.338752519678\n",
      "episode: 217 reward: -1219.141779838542\nepisode: 218 reward: -857.0163863023175\nepisode: 219 reward: -1215.1352782391139\n",
      "episode: 220 reward: -1292.9535310408978\nepisode: 221 reward: -1349.7116974594264\nepisode: 222 reward: -1262.1915541540045\n",
      "episode: 223 reward: -976.960530952989\nepisode: 224 reward: -1309.516667562349\n",
      "episode: 225 reward: -1281.6816468897746\nepisode: 226 reward: -1340.0460000652545\nepisode: 227 reward: -1297.0726986021348\n",
      "episode: 228 reward: -1184.843920894865\nepisode: 229 reward: -869.5404488749219\n",
      "episode: 230 reward: -752.3463712995318\nepisode: 231 reward: -1122.423041312647\n",
      "episode: 232 reward: -956.6954311416641\nepisode: 233 reward: -887.9975068434227\n",
      "episode: 234 reward: -977.3632513327703\nepisode: 235 reward: -1183.3059136629583\n",
      "episode: 236 reward: -754.205304592142\nepisode: 237 reward: -818.8720721876055\n",
      "episode: 238 reward: -873.3163438138856\nepisode: 239 reward: -1228.0201528748942\n",
      "episode: 240 reward: -968.7618158122032\nepisode: 241 reward: -1348.6380410774\n",
      "episode: 242 reward: -1072.2597373921546\nepisode: 243 reward: -873.6503928249422\n",
      "episode: 244 reward: -942.9927430827827\nepisode: 245 reward: -768.7106720796054\n",
      "episode: 246 reward: -796.8098288783848\nepisode: 247 reward: -1290.04134119459\n",
      "episode: 248 reward: -1352.2133082997614\nepisode: 249 reward: -1339.11383095323\n\n(50000, 4)\n\n"
     ],
     "output_type": "stream"
    }
   ],
   "source": [
    "from itertools import count\n",
    "\n",
    "max_expert_num = 50000\n",
    "num_steps = 0\n",
    "expert_traj = []\n",
    "\n",
    "for i_episode in count():\n",
    "    state = env.reset()\n",
    "    done = False\n",
    "    total_reward = 0\n",
    "    \n",
    "    while not done:\n",
    "        state = torch.FloatTensor(state).unsqueeze(0).to(device)\n",
    "        dist, _ = model(state)\n",
    "        action = dist.sample().cpu().numpy()[0]\n",
    "        next_state, reward, done, _ = env.step(action)\n",
    "        state = next_state\n",
    "        total_reward += reward\n",
    "        expert_traj.append(np.hstack([state, action]))\n",
    "        num_steps += 1\n",
    "    \n",
    "    print(\"episode:\", i_episode, \"reward:\", total_reward)\n",
    "    \n",
    "    if num_steps >= max_expert_num:\n",
    "        break\n",
    "        \n",
    "expert_traj = np.stack(expert_traj)\n",
    "print()\n",
    "print(expert_traj.shape)\n",
    "print()\n",
    "np.save(\"expert_traj.npy\", expert_traj)"
   ]
  }
 ],
 "metadata": {
  "kernelspec": {
   "name": "python3",
   "language": "python",
   "display_name": "Python 3"
  },
  "language_info": {
   "codemirror_mode": {
    "name": "ipython",
    "version": 3
   },
   "file_extension": ".py",
   "mimetype": "text/x-python",
   "name": "python",
   "nbconvert_exporter": "python",
   "pygments_lexer": "ipython3",
   "version": "3.5.5"
  },
  "pycharm": {
   "stem_cell": {
    "cell_type": "raw",
    "source": [],
    "metadata": {
     "collapsed": false
    }
   }
  }
 },
 "nbformat": 4,
 "nbformat_minor": 2
}